{
 "cells": [
  {
   "cell_type": "code",
   "execution_count": 1,
   "metadata": {},
   "outputs": [],
   "source": [
    "one_x_cubed = (1, 3)"
   ]
  },
  {
   "cell_type": "code",
   "execution_count": 2,
   "metadata": {},
   "outputs": [],
   "source": [
    "def find_term_derivative(term):\n",
    "    return (term[0]*term[1], term[1]-1)"
   ]
  },
  {
   "cell_type": "code",
   "execution_count": 3,
   "metadata": {},
   "outputs": [
    {
     "data": {
      "text/plain": [
       "(3, 2)"
      ]
     },
     "execution_count": 3,
     "metadata": {},
     "output_type": "execute_result"
    }
   ],
   "source": [
    "find_term_derivative(one_x_cubed) # (3, 2)"
   ]
  },
  {
   "cell_type": "code",
   "execution_count": 4,
   "metadata": {},
   "outputs": [
    {
     "data": {
      "text/plain": [
       "(4, 1)"
      ]
     },
     "execution_count": 4,
     "metadata": {},
     "output_type": "execute_result"
    }
   ],
   "source": [
    "two_x_squared = (2, 2)\n",
    "find_term_derivative(two_x_squared) # (4, 1)"
   ]
  },
  {
   "cell_type": "code",
   "execution_count": 57,
   "metadata": {},
   "outputs": [],
   "source": [
    "def find_derivative(function_terms):\n",
    "    filtered_terms = list(filter(lambda x : x[1] !=0, function_terms))\n",
    "    result = []\n",
    "    for term in filtered_terms:\n",
    "        result.append((term[0]*term[1], term[1]-1))\n",
    "    return result\n",
    "#https://stackoverflow.com/questions/52993011/when-finding-derivatives-how-do-you-use-the-filter-function-to-return-only-the/52993293?noredirect=1#comment92894776_52993293"
   ]
  },
  {
   "cell_type": "code",
   "execution_count": 58,
   "metadata": {},
   "outputs": [
    {
     "data": {
      "image/png": "[encoded data removed]",
      "text/latex": [
       "$$\\left [ \\left ( 12, \\quad 2\\right ), \\quad \\left ( -3, \\quad 0\\right )\\right ]$$"
      ],
      "text/plain": [
       "[(12, 2), (-3, 0)]"
      ]
     },
     "execution_count": 58,
     "metadata": {},
     "output_type": "execute_result"
    }
   ],
   "source": [
    "four_x_cubed_minus_three_x = [(4, 3), (-3, 1)]\n",
    "find_derivative(four_x_cubed_minus_three_x)  # [(12, 2), (-3, 0)]"
   ]
  },
  {
   "cell_type": "code",
   "execution_count": 59,
   "metadata": {},
   "outputs": [
    {
     "data": {
      "image/png": "[encoded data removed]",
      "text/latex": [
       "$$\\left [ \\left ( 6, \\quad 1\\right )\\right ]$$"
      ],
      "text/plain": [
       "[(6, 1)]"
      ]
     },
     "execution_count": 59,
     "metadata": {},
     "output_type": "execute_result"
    }
   ],
   "source": [
    "three_x_squared_minus_eleven = [(3, 2), (-11, 0)]                       \n",
    "find_derivative(three_x_squared_minus_eleven) # [(6, 1)]"
   ]
  },
  {
   "cell_type": "code",
   "execution_count": 101,
   "metadata": {},
   "outputs": [],
   "source": [
    "from calculus import output_at\n",
    "\n",
    "def derivative_at(terms, x):\n",
    "    d_terms = find_derivative(terms)\n",
    "    return output_at(d_terms, x)"
   ]
  },
  {
   "cell_type": "code",
   "execution_count": 102,
   "metadata": {},
   "outputs": [
    {
     "data": {
      "image/png": "[encoded data removed]",
      "text/latex": [
       "$$\\left [ \\left ( 6, \\quad 1\\right )\\right ]$$"
      ],
      "text/plain": [
       "[(6, 1)]"
      ]
     },
     "execution_count": 102,
     "metadata": {},
     "output_type": "execute_result"
    }
   ],
   "source": [
    "find_derivative(three_x_squared_minus_eleven) # [(6, 1)]"
   ]
  },
  {
   "cell_type": "code",
   "execution_count": 103,
   "metadata": {},
   "outputs": [],
   "source": [
    "# evaluate what a single term (e.g. 3x^2) equals at a value of  x\n",
    "\n",
    "def term_output(term, input_value):\n",
    "    return term[0]*(input_value**term[1])"
   ]
  },
  {
   "cell_type": "code",
   "execution_count": 104,
   "metadata": {},
   "outputs": [
    {
     "data": {
      "image/png": "[encoded data removed]",
      "text/latex": [
       "$$12$$"
      ],
      "text/plain": [
       "12"
      ]
     },
     "execution_count": 104,
     "metadata": {},
     "output_type": "execute_result"
    }
   ],
   "source": [
    "derivative_at(three_x_squared_minus_eleven, 2) # 12"
   ]
  },
  {
   "cell_type": "code",
   "execution_count": 105,
   "metadata": {},
   "outputs": [],
   "source": [
    "from calculus import output_at\n",
    "\n",
    "def tangent_line(function_terms, x_value, line_length = 4):\n",
    "    x_minus = x_value - line_length\n",
    "    x_plus = x_value + line_length\n",
    "    y = output_at(function_terms, x_value)\n",
    "    ## here, we are using your function\n",
    "    deriv = derivative_at(function_terms, x_value)\n",
    "    y_minus = y - deriv * line_length\n",
    "    y_plus = y + deriv * line_length\n",
    "    return {'x': [x_minus, x_value, x_plus], 'y': [y_minus, y, y_plus]}"
   ]
  },
  {
   "cell_type": "code",
   "execution_count": 106,
   "metadata": {},
   "outputs": [
    {
     "data": {
      "text/plain": [
       "{'x': [-2, 2, 6], 'y': [-47, 1, 49]}"
      ]
     },
     "execution_count": 106,
     "metadata": {},
     "output_type": "execute_result"
    }
   ],
   "source": [
    "tangent_line(three_x_squared_minus_eleven, 2, line_length = 4)"
   ]
  },
  {
   "cell_type": "code",
   "execution_count": 109,
   "metadata": {},
   "outputs": [
    {
     "data": {
      "text/html": [
       "<script>requirejs.config({paths: { 'plotly': ['https://cdn.plot.ly/plotly-latest.min']},});if(!window.Plotly) {{require(['plotly'],function(plotly) {window.Plotly=plotly;});}}</script>"
      ],
      "text/vnd.plotly.v1+html": [
       "<script>requirejs.config({paths: { 'plotly': ['https://cdn.plot.ly/plotly-latest.min']},});if(!window.Plotly) {{require(['plotly'],function(plotly) {window.Plotly=plotly;});}}</script>"
      ]
     },
     "metadata": {},
     "output_type": "display_data"
    },
    {
     "data": {
      "application/vnd.plotly.v1+json": {
       "data": [
        {
         "mode": "lines",
         "name": "data",
         "text": [],
         "type": "scatter",
         "uid": "c32884a2-daf5-11e8-87f2-34159e1c7ef8",
         "x": [
          -10,
          -9,
          -8,
          -7,
          -6,
          -5,
          -4,
          -3,
          -2,
          -1,
          0,
          1,
          2,
          3,
          4,
          5,
          6,
          7,
          8,
          9
         ],
         "y": [
          289,
          232,
          181,
          136,
          97,
          64,
          37,
          16,
          1,
          -8,
          -11,
          -8,
          1,
          16,
          37,
          64,
          97,
          136,
          181,
          232
         ]
        },
        {
         "type": "scatter",
         "uid": "c32887fe-daf5-11e8-9fd3-34159e1c7ef8",
         "x": [
          -2,
          2,
          6
         ],
         "y": [
          -47,
          1,
          49
         ]
        }
       ],
       "layout": {}
      },
      "text/html": [
       "<div id=\"35937134-5c16-4bbe-a3e7-5f7e14b8956a\" style=\"height: 525px; width: 100%;\" class=\"plotly-graph-div\"></div><script type=\"text/javascript\">require([\"plotly\"], function(Plotly) { window.PLOTLYENV=window.PLOTLYENV || {};window.PLOTLYENV.BASE_URL=\"https://plot.ly\";Plotly.newPlot(\"35937134-5c16-4bbe-a3e7-5f7e14b8956a\", [{\"mode\": \"lines\", \"name\": \"data\", \"text\": [], \"x\": [-10, -9, -8, -7, -6, -5, -4, -3, -2, -1, 0, 1, 2, 3, 4, 5, 6, 7, 8, 9], \"y\": [289, 232, 181, 136, 97, 64, 37, 16, 1, -8, -11, -8, 1, 16, 37, 64, 97, 136, 181, 232], \"type\": \"scatter\", \"uid\": \"c446afa8-daf5-11e8-b3db-34159e1c7ef8\"}, {\"x\": [-2, 2, 6], \"y\": [-47, 1, 49], \"type\": \"scatter\", \"uid\": \"c446b282-daf5-11e8-ba39-34159e1c7ef8\"}], {}, {\"showLink\": true, \"linkText\": \"Export to plot.ly\"})});</script>"
      ],
      "text/vnd.plotly.v1+html": [
       "<div id=\"35937134-5c16-4bbe-a3e7-5f7e14b8956a\" style=\"height: 525px; width: 100%;\" class=\"plotly-graph-div\"></div><script type=\"text/javascript\">require([\"plotly\"], function(Plotly) { window.PLOTLYENV=window.PLOTLYENV || {};window.PLOTLYENV.BASE_URL=\"https://plot.ly\";Plotly.newPlot(\"35937134-5c16-4bbe-a3e7-5f7e14b8956a\", [{\"mode\": \"lines\", \"name\": \"data\", \"text\": [], \"x\": [-10, -9, -8, -7, -6, -5, -4, -3, -2, -1, 0, 1, 2, 3, 4, 5, 6, 7, 8, 9], \"y\": [289, 232, 181, 136, 97, 64, 37, 16, 1, -8, -11, -8, 1, 16, 37, 64, 97, 136, 181, 232], \"type\": \"scatter\", \"uid\": \"c446afa8-daf5-11e8-b3db-34159e1c7ef8\"}, {\"x\": [-2, 2, 6], \"y\": [-47, 1, 49], \"type\": \"scatter\", \"uid\": \"c446b282-daf5-11e8-ba39-34159e1c7ef8\"}], {}, {\"showLink\": true, \"linkText\": \"Export to plot.ly\"})});</script>"
      ]
     },
     "metadata": {},
     "output_type": "display_data"
    }
   ],
   "source": [
    "from graph import plot\n",
    "from plotly.offline import iplot, init_notebook_mode\n",
    "\n",
    "from calculus import derivative_trace, function_values_trace\n",
    "\n",
    "init_notebook_mode(connected=True)\n",
    "\n",
    "\n",
    "tangent_at_two_trace = tangent_line(three_x_squared_minus_eleven, 2, line_length = 4)\n",
    "three_x_squared_minus_eleven_trace = function_values_trace(three_x_squared_minus_eleven, list(range(-10, 10)))\n",
    "plot([three_x_squared_minus_eleven_trace, tangent_at_two_trace])"
   ]
  },
  {
   "cell_type": "code",
   "execution_count": 111,
   "metadata": {},
   "outputs": [
    {
     "data": {
      "text/html": [
       "<script>requirejs.config({paths: { 'plotly': ['https://cdn.plot.ly/plotly-latest.min']},});if(!window.Plotly) {{require(['plotly'],function(plotly) {window.Plotly=plotly;});}}</script>"
      ],
      "text/vnd.plotly.v1+html": [
       "<script>requirejs.config({paths: { 'plotly': ['https://cdn.plot.ly/plotly-latest.min']},});if(!window.Plotly) {{require(['plotly'],function(plotly) {window.Plotly=plotly;});}}</script>"
      ]
     },
     "metadata": {},
     "output_type": "display_data"
    },
    {
     "data": {
      "application/vnd.plotly.v1+json": {
       "data": [
        {
         "mode": "lines",
         "name": "data",
         "text": [],
         "type": "scatter",
         "uid": "edc47c28-daf5-11e8-a20a-34159e1c7ef8",
         "x": [
          -10,
          -9,
          -8,
          -7,
          -6,
          -5,
          -4,
          -3,
          -2,
          -1,
          0,
          1,
          2,
          3,
          4,
          5,
          6,
          7,
          8,
          9
         ],
         "y": [
          289,
          232,
          181,
          136,
          97,
          64,
          37,
          16,
          1,
          -8,
          -11,
          -8,
          1,
          16,
          37,
          64,
          97,
          136,
          181,
          232
         ]
        },
        {
         "type": "scatter",
         "uid": "edc47f0c-daf5-11e8-8d5f-34159e1c7ef8",
         "x": [
          1,
          5,
          9
         ],
         "y": [
          -56,
          64,
          184
         ]
        }
       ],
       "layout": {}
      },
      "text/html": [
       "<div id=\"c4affa25-ec2d-4571-91f4-f4f406ca2b81\" style=\"height: 525px; width: 100%;\" class=\"plotly-graph-div\"></div><script type=\"text/javascript\">require([\"plotly\"], function(Plotly) { window.PLOTLYENV=window.PLOTLYENV || {};window.PLOTLYENV.BASE_URL=\"https://plot.ly\";Plotly.newPlot(\"c4affa25-ec2d-4571-91f4-f4f406ca2b81\", [{\"mode\": \"lines\", \"name\": \"data\", \"text\": [], \"x\": [-10, -9, -8, -7, -6, -5, -4, -3, -2, -1, 0, 1, 2, 3, 4, 5, 6, 7, 8, 9], \"y\": [289, 232, 181, 136, 97, 64, 37, 16, 1, -8, -11, -8, 1, 16, 37, 64, 97, 136, 181, 232], \"type\": \"scatter\", \"uid\": \"edd072dc-daf5-11e8-b665-34159e1c7ef8\"}, {\"x\": [1, 5, 9], \"y\": [-56, 64, 184], \"type\": \"scatter\", \"uid\": \"edd075d4-daf5-11e8-bc65-34159e1c7ef8\"}], {}, {\"showLink\": true, \"linkText\": \"Export to plot.ly\"})});</script>"
      ],
      "text/vnd.plotly.v1+html": [
       "<div id=\"c4affa25-ec2d-4571-91f4-f4f406ca2b81\" style=\"height: 525px; width: 100%;\" class=\"plotly-graph-div\"></div><script type=\"text/javascript\">require([\"plotly\"], function(Plotly) { window.PLOTLYENV=window.PLOTLYENV || {};window.PLOTLYENV.BASE_URL=\"https://plot.ly\";Plotly.newPlot(\"c4affa25-ec2d-4571-91f4-f4f406ca2b81\", [{\"mode\": \"lines\", \"name\": \"data\", \"text\": [], \"x\": [-10, -9, -8, -7, -6, -5, -4, -3, -2, -1, 0, 1, 2, 3, 4, 5, 6, 7, 8, 9], \"y\": [289, 232, 181, 136, 97, 64, 37, 16, 1, -8, -11, -8, 1, 16, 37, 64, 97, 136, 181, 232], \"type\": \"scatter\", \"uid\": \"edd072dc-daf5-11e8-b665-34159e1c7ef8\"}, {\"x\": [1, 5, 9], \"y\": [-56, 64, 184], \"type\": \"scatter\", \"uid\": \"edd075d4-daf5-11e8-bc65-34159e1c7ef8\"}], {}, {\"showLink\": true, \"linkText\": \"Export to plot.ly\"})});</script>"
      ]
     },
     "metadata": {},
     "output_type": "display_data"
    }
   ],
   "source": [
    "from graph import plot\n",
    "from plotly.offline import iplot, init_notebook_mode\n",
    "\n",
    "from calculus import derivative_trace, function_values_trace\n",
    "\n",
    "init_notebook_mode(connected=True)\n",
    "\n",
    "\n",
    "tangent_at_five_trace = tangent_line(three_x_squared_minus_eleven, 5, line_length = 4)\n",
    "three_x_squared_minus_eleven_trace = function_values_trace(three_x_squared_minus_eleven, list(range(-10, 10)))\n",
    "plot([three_x_squared_minus_eleven_trace, tangent_at_five_trace])"
   ]
  },
  {
   "cell_type": "code",
   "execution_count": 108,
   "metadata": {},
   "outputs": [
    {
     "data": {
      "text/plain": [
       "{'x': [1, 5, 9], 'y': [-56, 64, 184]}"
      ]
     },
     "execution_count": 108,
     "metadata": {},
     "output_type": "execute_result"
    }
   ],
   "source": [
    "tangent_at_five_trace "
   ]
  },
  {
   "cell_type": "code",
   "execution_count": 113,
   "metadata": {},
   "outputs": [
    {
     "data": {
      "application/vnd.plotly.v1+json": {
       "data": [
        {
         "mode": "lines",
         "name": "data",
         "text": [],
         "type": "scatter",
         "uid": "2ef5b4ca-daf6-11e8-b930-34159e1c7ef8",
         "x": [
          -10,
          -9,
          -8,
          -7,
          -6,
          -5,
          -4,
          -3,
          -2,
          -1,
          0,
          1,
          2,
          3,
          4,
          5,
          6,
          7,
          8,
          9
         ],
         "y": [
          289,
          232,
          181,
          136,
          97,
          64,
          37,
          16,
          1,
          -8,
          -11,
          -8,
          1,
          16,
          37,
          64,
          97,
          136,
          181,
          232
         ]
        },
        {
         "type": "scatter",
         "uid": "2ef5d20c-daf6-11e8-beb9-34159e1c7ef8",
         "x": [
          1,
          5,
          9
         ],
         "y": [
          -56,
          64,
          184
         ]
        },
        {
         "type": "scatter",
         "uid": "2ef5d400-daf6-11e8-a172-34159e1c7ef8",
         "x": [
          -2,
          2,
          6
         ],
         "y": [
          -47,
          1,
          49
         ]
        },
        {
         "type": "scatter",
         "uid": "2ef5d5a4-daf6-11e8-af2b-34159e1c7ef8",
         "x": [
          -4,
          0,
          4
         ],
         "y": [
          -11,
          -11,
          -11
         ]
        },
        {
         "type": "scatter",
         "uid": "2ef5d748-daf6-11e8-85a9-34159e1c7ef8",
         "x": [
          -3,
          1,
          5
         ],
         "y": [
          -32,
          -8,
          16
         ]
        },
        {
         "type": "scatter",
         "uid": "2ef5d8d8-daf6-11e8-868b-34159e1c7ef8",
         "x": [
          -5,
          -1,
          3
         ],
         "y": [
          16,
          -8,
          -32
         ]
        }
       ],
       "layout": {}
      },
      "text/html": [
       "<div id=\"1c6b5fc1-cb18-4255-b251-5421dbf74fa1\" style=\"height: 525px; width: 100%;\" class=\"plotly-graph-div\"></div><script type=\"text/javascript\">require([\"plotly\"], function(Plotly) { window.PLOTLYENV=window.PLOTLYENV || {};window.PLOTLYENV.BASE_URL=\"https://plot.ly\";Plotly.newPlot(\"1c6b5fc1-cb18-4255-b251-5421dbf74fa1\", [{\"mode\": \"lines\", \"name\": \"data\", \"text\": [], \"x\": [-10, -9, -8, -7, -6, -5, -4, -3, -2, -1, 0, 1, 2, 3, 4, 5, 6, 7, 8, 9], \"y\": [289, 232, 181, 136, 97, 64, 37, 16, 1, -8, -11, -8, 1, 16, 37, 64, 97, 136, 181, 232], \"type\": \"scatter\", \"uid\": \"2f042578-daf6-11e8-b6b4-34159e1c7ef8\"}, {\"x\": [1, 5, 9], \"y\": [-56, 64, 184], \"type\": \"scatter\", \"uid\": \"2f042852-daf6-11e8-9309-34159e1c7ef8\"}, {\"x\": [-2, 2, 6], \"y\": [-47, 1, 49], \"type\": \"scatter\", \"uid\": \"2f042a0a-daf6-11e8-998a-34159e1c7ef8\"}, {\"x\": [-4, 0, 4], \"y\": [-11, -11, -11], \"type\": \"scatter\", \"uid\": \"2f042ba4-daf6-11e8-bfcb-34159e1c7ef8\"}, {\"x\": [-3, 1, 5], \"y\": [-32, -8, 16], \"type\": \"scatter\", \"uid\": \"2f042d3e-daf6-11e8-800a-34159e1c7ef8\"}, {\"x\": [-5, -1, 3], \"y\": [16, -8, -32], \"type\": \"scatter\", \"uid\": \"2f042ecc-daf6-11e8-8bcc-34159e1c7ef8\"}], {}, {\"showLink\": true, \"linkText\": \"Export to plot.ly\"})});</script>"
      ],
      "text/vnd.plotly.v1+html": [
       "<div id=\"1c6b5fc1-cb18-4255-b251-5421dbf74fa1\" style=\"height: 525px; width: 100%;\" class=\"plotly-graph-div\"></div><script type=\"text/javascript\">require([\"plotly\"], function(Plotly) { window.PLOTLYENV=window.PLOTLYENV || {};window.PLOTLYENV.BASE_URL=\"https://plot.ly\";Plotly.newPlot(\"1c6b5fc1-cb18-4255-b251-5421dbf74fa1\", [{\"mode\": \"lines\", \"name\": \"data\", \"text\": [], \"x\": [-10, -9, -8, -7, -6, -5, -4, -3, -2, -1, 0, 1, 2, 3, 4, 5, 6, 7, 8, 9], \"y\": [289, 232, 181, 136, 97, 64, 37, 16, 1, -8, -11, -8, 1, 16, 37, 64, 97, 136, 181, 232], \"type\": \"scatter\", \"uid\": \"2f042578-daf6-11e8-b6b4-34159e1c7ef8\"}, {\"x\": [1, 5, 9], \"y\": [-56, 64, 184], \"type\": \"scatter\", \"uid\": \"2f042852-daf6-11e8-9309-34159e1c7ef8\"}, {\"x\": [-2, 2, 6], \"y\": [-47, 1, 49], \"type\": \"scatter\", \"uid\": \"2f042a0a-daf6-11e8-998a-34159e1c7ef8\"}, {\"x\": [-4, 0, 4], \"y\": [-11, -11, -11], \"type\": \"scatter\", \"uid\": \"2f042ba4-daf6-11e8-bfcb-34159e1c7ef8\"}, {\"x\": [-3, 1, 5], \"y\": [-32, -8, 16], \"type\": \"scatter\", \"uid\": \"2f042d3e-daf6-11e8-800a-34159e1c7ef8\"}, {\"x\": [-5, -1, 3], \"y\": [16, -8, -32], \"type\": \"scatter\", \"uid\": \"2f042ecc-daf6-11e8-8bcc-34159e1c7ef8\"}], {}, {\"showLink\": true, \"linkText\": \"Export to plot.ly\"})});</script>"
      ]
     },
     "metadata": {},
     "output_type": "display_data"
    }
   ],
   "source": [
    "# this is just for myself to practice plotting, but kind of like a manual-visual \"gradient descent\"\n",
    "tangent_at_zero_trace = tangent_line(three_x_squared_minus_eleven, 0, line_length = 4)\n",
    "tangent_at_one_trace = tangent_line(three_x_squared_minus_eleven, 1, line_length = 4)\n",
    "tangent_at_neg_one_trace = tangent_line(three_x_squared_minus_eleven, -1, line_length = 4)\n",
    "\n",
    "\n",
    "plot([three_x_squared_minus_eleven_trace, tangent_at_five_trace, tangent_at_two_trace, tangent_at_zero_trace, tangent_at_one_trace, tangent_at_neg_one_trace])"
   ]
  },
  {
   "cell_type": "code",
   "execution_count": 114,
   "metadata": {},
   "outputs": [
    {
     "data": {
      "text/plain": [
       "{'x': [-5, -4, -3, -2, -1, 0, 1, 2, 3, 4],\n",
       " 'y': [64, 37, 16, 1, -8, -11, -8, 1, 16, 37],\n",
       " 'mode': 'lines',\n",
       " 'name': 'data',\n",
       " 'text': []}"
      ]
     },
     "execution_count": 114,
     "metadata": {},
     "output_type": "execute_result"
    }
   ],
   "source": [
    "from calculus import function_values_trace\n",
    "three_x_squared_minus_eleven = [(3, 2), (-11, 0)]\n",
    "function_values_trace(three_x_squared_minus_eleven, list(range(-5, 5)))"
   ]
  },
  {
   "cell_type": "code",
   "execution_count": 115,
   "metadata": {},
   "outputs": [],
   "source": [
    "def derivative_function_trace(terms, x_values):\n",
    "    d_terms = find_derivative(terms)\n",
    "    return function_values_trace(d_terms, x_values)"
   ]
  },
  {
   "cell_type": "code",
   "execution_count": 116,
   "metadata": {},
   "outputs": [],
   "source": [
    "three_x_squared_minus_eleven_derivative_trace = derivative_function_trace(three_x_squared_minus_eleven, list(range(-5, 5)))"
   ]
  },
  {
   "cell_type": "code",
   "execution_count": 117,
   "metadata": {},
   "outputs": [
    {
     "data": {
      "text/plain": [
       "{'x': [-5, -4, -3, -2, -1, 0, 1, 2, 3, 4],\n",
       " 'y': [-30, -24, -18, -12, -6, 0, 6, 12, 18, 24],\n",
       " 'mode': 'lines',\n",
       " 'name': 'data',\n",
       " 'text': []}"
      ]
     },
     "execution_count": 117,
     "metadata": {},
     "output_type": "execute_result"
    }
   ],
   "source": [
    "three_x_squared_minus_eleven_derivative_trace"
   ]
  },
  {
   "cell_type": "code",
   "execution_count": 118,
   "metadata": {},
   "outputs": [],
   "source": [
    "from plotly import tools\n",
    "import plotly\n",
    "import plotly.plotly as py\n",
    "\n",
    "from graph import make_subplots\n",
    "\n",
    "def side_by_side_derivative_rules(list_of_terms, x_values):\n",
    "    function_trace = function_values_trace(list_of_terms, x_values)\n",
    "    derivative_trace = derivative_function_trace(list_of_terms, x_values)\n",
    "    if derivative_trace and function_trace:\n",
    "        return make_subplots([function_trace], [derivative_trace])\n"
   ]
  },
  {
   "cell_type": "code",
   "execution_count": 119,
   "metadata": {},
   "outputs": [
    {
     "name": "stdout",
     "output_type": "stream",
     "text": [
      "This is the format of your plot grid:\n",
      "[ (1,1) x1,y1 ]  [ (1,2) x2,y2 ]\n",
      "\n"
     ]
    },
    {
     "data": {
      "application/vnd.plotly.v1+json": {
       "data": [
        {
         "mode": "lines",
         "name": "data",
         "text": [],
         "type": "scatter",
         "uid": "6663d51e-daf8-11e8-b289-34159e1c7ef8",
         "x": [
          -5,
          -4,
          -3,
          -2,
          -1,
          0,
          1,
          2,
          3,
          4
         ],
         "xaxis": "x",
         "y": [
          64,
          37,
          16,
          1,
          -8,
          -11,
          -8,
          1,
          16,
          37
         ],
         "yaxis": "y"
        },
        {
         "mode": "lines",
         "name": "data",
         "text": [],
         "type": "scatter",
         "uid": "66650c06-daf8-11e8-b878-34159e1c7ef8",
         "x": [
          -5,
          -4,
          -3,
          -2,
          -1,
          0,
          1,
          2,
          3,
          4
         ],
         "xaxis": "x2",
         "y": [
          -30,
          -24,
          -18,
          -12,
          -6,
          0,
          6,
          12,
          18,
          24
         ],
         "yaxis": "y2"
        }
       ],
       "layout": {
        "xaxis": {
         "anchor": "y",
         "domain": [
          0,
          0.45
         ]
        },
        "xaxis2": {
         "anchor": "y2",
         "domain": [
          0.55,
          1
         ]
        },
        "yaxis": {
         "anchor": "x",
         "domain": [
          0,
          1
         ]
        },
        "yaxis2": {
         "anchor": "x2",
         "domain": [
          0,
          1
         ]
        }
       }
      },
      "text/html": [
       "<div id=\"1d662d65-522b-41bd-a920-e762ab8084f8\" style=\"height: 525px; width: 100%;\" class=\"plotly-graph-div\"></div><script type=\"text/javascript\">require([\"plotly\"], function(Plotly) { window.PLOTLYENV=window.PLOTLYENV || {};window.PLOTLYENV.BASE_URL=\"https://plot.ly\";Plotly.newPlot(\"1d662d65-522b-41bd-a920-e762ab8084f8\", [{\"mode\": \"lines\", \"name\": \"data\", \"text\": [], \"x\": [-5, -4, -3, -2, -1, 0, 1, 2, 3, 4], \"y\": [64, 37, 16, 1, -8, -11, -8, 1, 16, 37], \"type\": \"scatter\", \"uid\": \"6663d51e-daf8-11e8-b289-34159e1c7ef8\", \"xaxis\": \"x\", \"yaxis\": \"y\"}, {\"mode\": \"lines\", \"name\": \"data\", \"text\": [], \"x\": [-5, -4, -3, -2, -1, 0, 1, 2, 3, 4], \"y\": [-30, -24, -18, -12, -6, 0, 6, 12, 18, 24], \"type\": \"scatter\", \"uid\": \"66650c06-daf8-11e8-b878-34159e1c7ef8\", \"xaxis\": \"x2\", \"yaxis\": \"y2\"}], {\"xaxis\": {\"anchor\": \"y\", \"domain\": [0.0, 0.45]}, \"yaxis\": {\"anchor\": \"x\", \"domain\": [0.0, 1.0]}, \"xaxis2\": {\"anchor\": \"y2\", \"domain\": [0.55, 1.0]}, \"yaxis2\": {\"anchor\": \"x2\", \"domain\": [0.0, 1.0]}}, {\"showLink\": true, \"linkText\": \"Export to plot.ly\"})});</script>"
      ],
      "text/vnd.plotly.v1+html": [
       "<div id=\"1d662d65-522b-41bd-a920-e762ab8084f8\" style=\"height: 525px; width: 100%;\" class=\"plotly-graph-div\"></div><script type=\"text/javascript\">require([\"plotly\"], function(Plotly) { window.PLOTLYENV=window.PLOTLYENV || {};window.PLOTLYENV.BASE_URL=\"https://plot.ly\";Plotly.newPlot(\"1d662d65-522b-41bd-a920-e762ab8084f8\", [{\"mode\": \"lines\", \"name\": \"data\", \"text\": [], \"x\": [-5, -4, -3, -2, -1, 0, 1, 2, 3, 4], \"y\": [64, 37, 16, 1, -8, -11, -8, 1, 16, 37], \"type\": \"scatter\", \"uid\": \"6663d51e-daf8-11e8-b289-34159e1c7ef8\", \"xaxis\": \"x\", \"yaxis\": \"y\"}, {\"mode\": \"lines\", \"name\": \"data\", \"text\": [], \"x\": [-5, -4, -3, -2, -1, 0, 1, 2, 3, 4], \"y\": [-30, -24, -18, -12, -6, 0, 6, 12, 18, 24], \"type\": \"scatter\", \"uid\": \"66650c06-daf8-11e8-b878-34159e1c7ef8\", \"xaxis\": \"x2\", \"yaxis\": \"y2\"}], {\"xaxis\": {\"anchor\": \"y\", \"domain\": [0.0, 0.45]}, \"yaxis\": {\"anchor\": \"x\", \"domain\": [0.0, 1.0]}, \"xaxis2\": {\"anchor\": \"y2\", \"domain\": [0.55, 1.0]}, \"yaxis2\": {\"anchor\": \"x2\", \"domain\": [0.0, 1.0]}}, {\"showLink\": true, \"linkText\": \"Export to plot.ly\"})});</script>"
      ]
     },
     "metadata": {},
     "output_type": "display_data"
    }
   ],
   "source": [
    "from graph import plot_figure\n",
    "side_by_side_three_x_squared_minus_eleven = side_by_side_derivative_rules(three_x_squared_minus_eleven, list(range(-5, 5)))\n",
    "if side_by_side_three_x_squared_minus_eleven:\n",
    "    plot_figure(side_by_side_three_x_squared_minus_eleven)"
   ]
  }
 ],
 "metadata": {
  "kernelspec": {
   "display_name": "Python 3",
   "language": "python",
   "name": "python3"
  },
  "language_info": {
   "codemirror_mode": {
    "name": "ipython",
    "version": 3
   },
   "file_extension": ".py",
   "mimetype": "text/x-python",
   "name": "python",
   "nbconvert_exporter": "python",
   "pygments_lexer": "ipython3",
   "version": "3.6.5"
  }
 },
 "nbformat": 4,
 "nbformat_minor": 2
}
